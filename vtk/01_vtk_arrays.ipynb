{
 "cells": [
  {
   "cell_type": "markdown",
   "metadata": {},
   "source": [
    "# VTK Arrays"
   ]
  },
  {
   "cell_type": "code",
   "execution_count": 1,
   "metadata": {
    "collapsed": true
   },
   "outputs": [],
   "source": [
    "import vtk"
   ]
  },
  {
   "cell_type": "markdown",
   "metadata": {},
   "source": [
    "## Create the float array and pre fill"
   ]
  },
  {
   "cell_type": "code",
   "execution_count": 20,
   "metadata": {
    "collapsed": true
   },
   "outputs": [],
   "source": [
    "arr = vtk.vtkFloatArray() # Create float array\n",
    "arr.SetNumberOfComponents(2) # Set number of components\n",
    "arr.SetNumberOfTuples(12) # Add 12 tuples\n",
    "arr.FillComponent(0,0.0) # Fill 0 with 0\n",
    "arr.FillComponent(1,10.0) # Fill 1 with 10"
   ]
  },
  {
   "cell_type": "markdown",
   "metadata": {},
   "source": [
    "## Add some data in various places"
   ]
  },
  {
   "cell_type": "code",
   "execution_count": 21,
   "metadata": {
    "collapsed": true
   },
   "outputs": [],
   "source": [
    "arr.SetComponent(10,0,3) # Set 10,0 as 3\n",
    "arr.SetTuple2(11,9.0,2.0) # Set 11 as 9,2\n",
    "arr.SetComponent(4,1,-2.1) # Set 4,1 as -2.1"
   ]
  },
  {
   "cell_type": "markdown",
   "metadata": {},
   "source": [
    "## Get the information from the array"
   ]
  },
  {
   "cell_type": "code",
   "execution_count": 22,
   "metadata": {
    "collapsed": false
   },
   "outputs": [
    {
     "name": "stdout",
     "output_type": "stream",
     "text": [
      "12 2\n"
     ]
    }
   ],
   "source": [
    "t = arr.GetNumberOfTuples()\n",
    "c = arr.GetNumberOfComponents()\n",
    "print t,c"
   ]
  },
  {
   "cell_type": "code",
   "execution_count": 23,
   "metadata": {
    "collapsed": false,
    "scrolled": true
   },
   "outputs": [
    {
     "name": "stdout",
     "output_type": "stream",
     "text": [
      "0 0.0\n",
      "0 10.0\n",
      "1 0.0\n",
      "1 10.0\n",
      "2 0.0\n",
      "2 10.0\n",
      "3 0.0\n",
      "3 10.0\n",
      "4 0.0\n",
      "4 -2.09999990463\n",
      "5 0.0\n",
      "5 10.0\n",
      "6 0.0\n",
      "6 10.0\n",
      "7 0.0\n",
      "7 10.0\n",
      "8 0.0\n",
      "8 10.0\n",
      "9 0.0\n",
      "9 10.0\n",
      "10 3.0\n",
      "10 10.0\n",
      "11 9.0\n",
      "11 2.0\n"
     ]
    }
   ],
   "source": [
    "for i in range(0,t):\n",
    "    for j in range(0,c):\n",
    "        print i,arr.GetComponent(i,j)"
   ]
  },
  {
   "cell_type": "markdown",
   "metadata": {},
   "source": [
    "## Dynamic Array"
   ]
  },
  {
   "cell_type": "code",
   "execution_count": 29,
   "metadata": {
    "collapsed": false
   },
   "outputs": [
    {
     "name": "stdout",
     "output_type": "stream",
     "text": [
      "2 1\n",
      "5.0 10.0\n"
     ]
    }
   ],
   "source": [
    "dyn = vtk.vtkFloatArray()\n",
    "dyn.SetNumberOfComponents(1)\n",
    "dyn.InsertNextTuple1(5)\n",
    "dyn.InsertNextTuple1(10)\n",
    "\n",
    "print dyn.GetNumberOfTuples(), dyn.GetNumberOfComponents()\n",
    "print dyn.GetComponent(0,0), dyn.GetComponent(1,0)"
   ]
  }
 ],
 "metadata": {
  "kernelspec": {
   "display_name": "Python 2",
   "language": "python",
   "name": "python2"
  },
  "language_info": {
   "codemirror_mode": {
    "name": "ipython",
    "version": 2
   },
   "file_extension": ".py",
   "mimetype": "text/x-python",
   "name": "python",
   "nbconvert_exporter": "python",
   "pygments_lexer": "ipython2",
   "version": "2.7.11"
  },
  "widgets": {
   "state": {},
   "version": "1.1.2"
  }
 },
 "nbformat": 4,
 "nbformat_minor": 0
}
