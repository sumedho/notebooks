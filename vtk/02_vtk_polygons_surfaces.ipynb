{
 "cells": [
  {
   "cell_type": "markdown",
   "metadata": {},
   "source": [
    "# Create a polygon and a surface\n",
    "<hr>"
   ]
  },
  {
   "cell_type": "code",
   "execution_count": 1,
   "metadata": {
    "collapsed": true
   },
   "outputs": [],
   "source": [
    "import vtk"
   ]
  },
  {
   "cell_type": "markdown",
   "metadata": {},
   "source": [
    "### Create the points"
   ]
  },
  {
   "cell_type": "code",
   "execution_count": 2,
   "metadata": {
    "collapsed": false
   },
   "outputs": [],
   "source": [
    "points = vtk.vtkPoints()\n",
    "points.SetNumberOfPoints(4)\n",
    "\n",
    "# SetPoint(i,x,y,z)\n",
    "points.SetPoint(0,0.0,0.0,0.0) # point 0\n",
    "points.SetPoint(1,0.0,1.0,0.0) # point 1\n",
    "points.SetPoint(2,1.0,1.0,0.0) # point 2\n",
    "points.SetPoint(3,1.0,0.0,0.0) # point 3"
   ]
  },
  {
   "cell_type": "markdown",
   "metadata": {},
   "source": [
    "### Create the lines"
   ]
  },
  {
   "cell_type": "code",
   "execution_count": 3,
   "metadata": {
    "collapsed": false
   },
   "outputs": [],
   "source": [
    "lines = vtk.vtkCellArray()\n",
    "\n",
    "# First line from point 0 to point 1\n",
    "lines.InsertNextCell(2)\n",
    "lines.InsertCellPoint(0)\n",
    "lines.InsertCellPoint(1)\n",
    "\n",
    "# Second line from point 1 to point 2\n",
    "lines.InsertNextCell(2)\n",
    "lines.InsertCellPoint(1)\n",
    "lines.InsertCellPoint(2)\n",
    "\n",
    "# Third line from point 2 to point 3\n",
    "lines.InsertNextCell(2)\n",
    "lines.InsertCellPoint(2)\n",
    "lines.InsertCellPoint(3)\n",
    "\n",
    "# Fourth line from point 3 to point 0\n",
    "lines.InsertNextCell(2)\n",
    "lines.InsertCellPoint(3)\n",
    "lines.InsertCellPoint(0)"
   ]
  },
  {
   "cell_type": "markdown",
   "metadata": {},
   "source": [
    "### Create a polygon data and add points and lines"
   ]
  },
  {
   "cell_type": "code",
   "execution_count": 4,
   "metadata": {
    "collapsed": true
   },
   "outputs": [],
   "source": [
    "curve = vtk.vtkPolyData()\n",
    "curve.SetPoints(points)\n",
    "curve.SetLines(lines)"
   ]
  },
  {
   "cell_type": "markdown",
   "metadata": {},
   "source": [
    "### Write data to file"
   ]
  },
  {
   "cell_type": "code",
   "execution_count": 5,
   "metadata": {
    "collapsed": false,
    "scrolled": true
   },
   "outputs": [
    {
     "data": {
      "text/plain": [
       "1"
      ]
     },
     "execution_count": 5,
     "metadata": {},
     "output_type": "execute_result"
    }
   ],
   "source": [
    "writer = vtk.vtkPolyDataWriter()\n",
    "writer.SetInputData(curve)\n",
    "writer.SetFileName('square.vtk')\n",
    "writer.Write()"
   ]
  },
  {
   "cell_type": "markdown",
   "metadata": {},
   "source": [
    "## Create a surface\n",
    "\n",
    "This will make a pyramid surface. The bottom will have no polygons (i.e. open) and the top will be at a height of 2"
   ]
  },
  {
   "cell_type": "code",
   "execution_count": 6,
   "metadata": {
    "collapsed": false
   },
   "outputs": [
    {
     "data": {
      "text/plain": [
       "1"
      ]
     },
     "execution_count": 6,
     "metadata": {},
     "output_type": "execute_result"
    }
   ],
   "source": [
    "# Create a set of 5 points\n",
    "points2 = vtk.vtkPoints()\n",
    "points2.SetNumberOfPoints(5)\n",
    "\n",
    "# SetPoint(i,x,y,z)\n",
    "points2.SetPoint(0,0.0,0.0,0.0) # point 0\n",
    "points2.SetPoint(1,0.0,1.0,0.0) # point 1\n",
    "points2.SetPoint(2,1.0,1.0,0.0) # point 2\n",
    "points2.SetPoint(3,1.0,0.0,0.0) # point 3\n",
    "points2.SetPoint(4,0.5,0.5,2) # Add a middle point at elevation 2\n",
    "\n",
    "# Create a Cell Array to hold the triangles\n",
    "tris = vtk.vtkCellArray()\n",
    "\n",
    "# First top tri\n",
    "tris.InsertNextCell(3)\n",
    "tris.InsertCellPoint(0)\n",
    "tris.InsertCellPoint(1)\n",
    "tris.InsertCellPoint(4)\n",
    "\n",
    "# Second top tri\n",
    "tris.InsertNextCell(3)\n",
    "tris.InsertCellPoint(1)\n",
    "tris.InsertCellPoint(2)\n",
    "tris.InsertCellPoint(4)\n",
    "\n",
    "# Third top tri\n",
    "tris.InsertNextCell(3)\n",
    "tris.InsertCellPoint(2)\n",
    "tris.InsertCellPoint(3)\n",
    "tris.InsertCellPoint(4)\n",
    "\n",
    "# Fourth top tri\n",
    "tris.InsertNextCell(3)\n",
    "tris.InsertCellPoint(3)\n",
    "tris.InsertCellPoint(0)\n",
    "tris.InsertCellPoint(4)\n",
    "\n",
    "# Create poly data\n",
    "surface = vtk.vtkPolyData()\n",
    "surface.SetPoints(points2)\n",
    "surface.SetPolys(tris)\n",
    "\n",
    "# Write data to a file called pyramid.vtk\n",
    "writer = vtk.vtkPolyDataWriter()\n",
    "writer.SetInputData(surface)\n",
    "writer.SetFileName('pyramid.vtk')\n",
    "writer.Write()"
   ]
  }
 ],
 "metadata": {
  "kernelspec": {
   "display_name": "Python 2",
   "language": "python",
   "name": "python2"
  },
  "language_info": {
   "codemirror_mode": {
    "name": "ipython",
    "version": 2
   },
   "file_extension": ".py",
   "mimetype": "text/x-python",
   "name": "python",
   "nbconvert_exporter": "python",
   "pygments_lexer": "ipython2",
   "version": "2.7.11"
  },
  "widgets": {
   "state": {},
   "version": "1.1.2"
  }
 },
 "nbformat": 4,
 "nbformat_minor": 0
}
