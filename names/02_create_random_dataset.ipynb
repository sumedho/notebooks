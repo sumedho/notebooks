{
 "cells": [
  {
   "cell_type": "markdown",
   "metadata": {},
   "source": [
    "# Create a Random People/User Dataset\n",
    "\n",
    "Creating a realistic people/user dataset can be helpful in many situations. This notebook shows how to generate one quickly and easily. The ideas in here can be extended to add further details as required (e.g. assign a random address from an address database)"
   ]
  },
  {
   "cell_type": "code",
   "execution_count": 1,
   "metadata": {
    "collapsed": true
   },
   "outputs": [],
   "source": [
    "import pandas as pd\n",
    "import numpy as np\n",
    "import datetime"
   ]
  },
  {
   "cell_type": "markdown",
   "metadata": {},
   "source": [
    "### Helper functions\n",
    "\n",
    "To create the dataset, random birthdays need to be created. The first function creates a random birthday between a min and max age. \n",
    "\n",
    "The second generates a random integer with a higher probability of a lower number. The first and last names are sorted by how common they are, so there is a higher probability of selecting a lower/more common name."
   ]
  },
  {
   "cell_type": "code",
   "execution_count": 7,
   "metadata": {
    "collapsed": false,
    "scrolled": true
   },
   "outputs": [],
   "source": [
    "def generate_random_birthday(min_age, max_age):\n",
    "    \"\"\" Generate a random birthday between min and max age\"\"\"\n",
    "    today = datetime.date.today() # Get todays date\n",
    "    startdate = today - datetime.timedelta(max_age * 365) # Subtract max_age to get startdate for random bdays\n",
    "    enddate = today - datetime.timedelta(min_age * 365)\n",
    "    number_of_days = enddate - startdate\n",
    "    \n",
    "    return startdate+datetime.timedelta(np.random.randint(1,number_of_days.days))\n",
    "\n",
    "def lower_rand_int(min_int, max_int, power):\n",
    "    \"\"\" Generate a random int with a higher probability of a lower number\"\"\"\n",
    "    return int(min_int+(max_int-min_int)*np.random.rand()**power)"
   ]
  },
  {
   "cell_type": "markdown",
   "metadata": {},
   "source": [
    "### Plot of random integer function\n",
    "\n",
    "As can be seen in the plot, the lower integers are more common than higher."
   ]
  },
  {
   "cell_type": "code",
   "execution_count": 8,
   "metadata": {
    "collapsed": false
   },
   "outputs": [
    {
     "data": {
      "text/plain": [
       "<matplotlib.axes._subplots.AxesSubplot at 0x1308321d0>"
      ]
     },
     "execution_count": 8,
     "metadata": {},
     "output_type": "execute_result"
    },
    {
     "data": {
      "image/png": "[encoded data removed]",
      "text/plain": [
       "<matplotlib.figure.Figure at 0x1114bfe50>"
      ]
     },
     "metadata": {},
     "output_type": "display_data"
    }
   ],
   "source": [
    "import matplotlib.pyplot as plt\n",
    "import seaborn as sns\n",
    "\n",
    "%matplotlib inline\n",
    "\n",
    "f = []\n",
    "for i in range(0,10000):\n",
    "    f.append(lower_rand_int(0, 50000, 4))\n",
    "\n",
    "sns.distplot(f)"
   ]
  },
  {
   "cell_type": "markdown",
   "metadata": {},
   "source": [
    "### Simple test of random birthday"
   ]
  },
  {
   "cell_type": "code",
   "execution_count": 9,
   "metadata": {
    "collapsed": false,
    "scrolled": true
   },
   "outputs": [
    {
     "data": {
      "text/plain": [
       "datetime.date(1970, 7, 19)"
      ]
     },
     "execution_count": 9,
     "metadata": {},
     "output_type": "execute_result"
    }
   ],
   "source": [
    "generate_random_birthday(3,76)"
   ]
  },
  {
   "cell_type": "markdown",
   "metadata": {},
   "source": [
    "### Wrap it all up in a function\n",
    "\n",
    "Function to generate random names and birthdays. Loads the data, generates the names and returns a dataframe. A male/female probability is given to define the ratio between random males and females."
   ]
  },
  {
   "cell_type": "code",
   "execution_count": 10,
   "metadata": {
    "collapsed": false,
    "scrolled": true
   },
   "outputs": [],
   "source": [
    "def generate_random_names(number, male_female_prob):\n",
    "    mnames = pd.read_hdf('names.hf5','malename')\n",
    "    fnames = pd.read_hdf('names.hf5','femalename')\n",
    "    lnames = pd.read_hdf('names.hf5','lastname')\n",
    "    \n",
    "    szm = mnames.shape[0]-1\n",
    "    szf = fnames.shape[0]-1\n",
    "    szl = lnames.shape[0]-1\n",
    "    \n",
    "    # Create new dataframe to store data\n",
    "    df = pd.DataFrame(index=range(0,number),columns=['firstname','lastname','sex','dob'])\n",
    "    \n",
    "    # Loop through and add firstname/lastname\n",
    "    for i in range(0,number):\n",
    "        if np.random.binomial(1,male_female_prob)==1:\n",
    "            df['firstname'].iloc[i] = mnames['firstname'].iloc[lower_rand_int(0,szm,4)]\n",
    "            df['sex'].iloc[i] = 1\n",
    "        else:\n",
    "            df['firstname'].iloc[i] = fnames['firstname'].iloc[lower_rand_int(0,szf,4)]\n",
    "            df['sex'].iloc[i] = 2\n",
    "        df['lastname'].iloc[i] = lnames['lastname'].iloc[lower_rand_int(0,szl,4)]\n",
    "        df['dob'].iloc[i] = generate_random_birthday(2,75)\n",
    "    return df"
   ]
  },
  {
   "cell_type": "markdown",
   "metadata": {},
   "source": [
    "### Generate the random dataset\n",
    "\n",
    "Generate 10,000 names with a male/female probability of 0.5"
   ]
  },
  {
   "cell_type": "code",
   "execution_count": 11,
   "metadata": {
    "collapsed": false,
    "scrolled": false
   },
   "outputs": [],
   "source": [
    "df = generate_random_names(10000,0.5)"
   ]
  },
  {
   "cell_type": "code",
   "execution_count": 14,
   "metadata": {
    "collapsed": false,
    "scrolled": true
   },
   "outputs": [
    {
     "data": {
      "text/html": [
       "<div>\n",
       "<table border=\"1\" class=\"dataframe\">\n",
       "  <thead>\n",
       "    <tr style=\"text-align: right;\">\n",
       "      <th></th>\n",
       "      <th>firstname</th>\n",
       "      <th>lastname</th>\n",
       "      <th>sex</th>\n",
       "      <th>dob</th>\n",
       "    </tr>\n",
       "  </thead>\n",
       "  <tbody>\n",
       "    <tr>\n",
       "      <th>0</th>\n",
       "      <td>Augusta</td>\n",
       "      <td>VELA</td>\n",
       "      <td>2</td>\n",
       "      <td>1964-06-22</td>\n",
       "    </tr>\n",
       "    <tr>\n",
       "      <th>1</th>\n",
       "      <td>Scott</td>\n",
       "      <td>PETERSON</td>\n",
       "      <td>1</td>\n",
       "      <td>1955-10-07</td>\n",
       "    </tr>\n",
       "    <tr>\n",
       "      <th>2</th>\n",
       "      <td>John</td>\n",
       "      <td>PAALMAN</td>\n",
       "      <td>1</td>\n",
       "      <td>1988-10-07</td>\n",
       "    </tr>\n",
       "    <tr>\n",
       "      <th>3</th>\n",
       "      <td>Salim</td>\n",
       "      <td>WAKI</td>\n",
       "      <td>1</td>\n",
       "      <td>1949-10-31</td>\n",
       "    </tr>\n",
       "    <tr>\n",
       "      <th>4</th>\n",
       "      <td>Orren</td>\n",
       "      <td>KROTZ</td>\n",
       "      <td>1</td>\n",
       "      <td>1986-06-14</td>\n",
       "    </tr>\n",
       "  </tbody>\n",
       "</table>\n",
       "</div>"
      ],
      "text/plain": [
       "  firstname  lastname sex         dob\n",
       "0   Augusta      VELA   2  1964-06-22\n",
       "1     Scott  PETERSON   1  1955-10-07\n",
       "2      John   PAALMAN   1  1988-10-07\n",
       "3     Salim      WAKI   1  1949-10-31\n",
       "4     Orren     KROTZ   1  1986-06-14"
      ]
     },
     "execution_count": 14,
     "metadata": {},
     "output_type": "execute_result"
    }
   ],
   "source": [
    "df.head()"
   ]
  },
  {
   "cell_type": "markdown",
   "metadata": {},
   "source": [
    "### Check male/female ratio"
   ]
  },
  {
   "cell_type": "code",
   "execution_count": 15,
   "metadata": {
    "collapsed": false,
    "scrolled": true
   },
   "outputs": [
    {
     "data": {
      "text/plain": [
       "1    5019\n",
       "2    4981\n",
       "Name: sex, dtype: int64"
      ]
     },
     "execution_count": 15,
     "metadata": {},
     "output_type": "execute_result"
    }
   ],
   "source": [
    "df.sex.value_counts()"
   ]
  },
  {
   "cell_type": "markdown",
   "metadata": {},
   "source": [
    "### Counts of names\n",
    "\n",
    "The number of common names selected can be reduced by decreasing the power for the random integer function. Increasing it will tend to select more popular names"
   ]
  },
  {
   "cell_type": "code",
   "execution_count": 19,
   "metadata": {
    "collapsed": false
   },
   "outputs": [
    {
     "data": {
      "text/plain": [
       "John         179\n",
       "Mary         159\n",
       "Anna          35\n",
       "William       34\n",
       "James         29\n",
       "Frank         24\n",
       "Elizabeth     23\n",
       "Emma          23\n",
       "Charles       21\n",
       "Joseph        19\n",
       "Ida           18\n",
       "Henry         14\n",
       "Bessie        13\n",
       "George        13\n",
       "Bertha        13\n",
       "Alice         12\n",
       "Edward        11\n",
       "Annie         11\n",
       "Charlie       11\n",
       "Margaret      11\n",
       "Robert        11\n",
       "Tommie        11\n",
       "Alfred        11\n",
       "Jean          11\n",
       "Dora          11\n",
       "Helen         10\n",
       "Sara          10\n",
       "Sam           10\n",
       "Leonard       10\n",
       "Catherine     10\n",
       "Name: firstname, dtype: int64"
      ]
     },
     "execution_count": 19,
     "metadata": {},
     "output_type": "execute_result"
    }
   ],
   "source": [
    "names = df.firstname.value_counts()\n",
    "names[0:30]"
   ]
  }
 ],
 "metadata": {
  "kernelspec": {
   "display_name": "Python 2",
   "language": "python",
   "name": "python2"
  },
  "language_info": {
   "codemirror_mode": {
    "name": "ipython",
    "version": 2
   },
   "file_extension": ".py",
   "mimetype": "text/x-python",
   "name": "python",
   "nbconvert_exporter": "python",
   "pygments_lexer": "ipython2",
   "version": "2.7.12"
  }
 },
 "nbformat": 4,
 "nbformat_minor": 0
}
