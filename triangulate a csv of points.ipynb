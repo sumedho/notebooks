{
 "cells": [
  {
   "cell_type": "markdown",
   "metadata": {},
   "source": [
    "# Create a simple triangulation of a set of points"
   ]
  },
  {
   "cell_type": "code",
   "execution_count": 8,
   "metadata": {
    "collapsed": true
   },
   "outputs": [],
   "source": [
    "import numpy as np\n",
    "import pandas as pd\n",
    "from IPython.display import display\n",
    "import scipy.spatial as spatial \n",
    "from stl import mesh"
   ]
  },
  {
   "cell_type": "markdown",
   "metadata": {},
   "source": [
    "### Read in data\n",
    "\n",
    "Data consists of a grid of points created in Blender 3D software with a wave filter applied. This is to simulate a surface. The points consist of 3 columns, the first being x, second y and third the elevation or z value."
   ]
  },
  {
   "cell_type": "code",
   "execution_count": 12,
   "metadata": {
    "collapsed": false,
    "scrolled": true
   },
   "outputs": [
    {
     "data": {
      "text/plain": [
       "False"
      ]
     },
     "execution_count": 12,
     "metadata": {},
     "output_type": "execute_result"
    }
   ],
   "source": [
    "points = np.genfromtxt('./data/surf.csv',delimiter=\",\")\n",
    "np.isnan(np.sum(points[:,2])) # Check if NaN in 3rd row of points"
   ]
  },
  {
   "cell_type": "markdown",
   "metadata": {},
   "source": [
    "### Delaunay tri\n",
    "\n",
    "Create triangulation over only the first two columns (x and y respectively). This is essentially triangulating the surface in plane view and ignoring the z values. "
   ]
  },
  {
   "cell_type": "code",
   "execution_count": 10,
   "metadata": {
    "collapsed": false
   },
   "outputs": [],
   "source": [
    "tri = spatial.Delaunay(points[:,0:2]) # Create delaunay triangulation"
   ]
  },
  {
   "cell_type": "markdown",
   "metadata": {},
   "source": [
    "### Export the tri to an STL file\n",
    "\n",
    "The faces of the triangulation are exported along with the points. There will be some problems at the edges where vertical tris have been created (due to the boundary). Open the stl file in your favourite viewing program to see the resulting mesh (paraview or meshalb work well)."
   ]
  },
  {
   "cell_type": "code",
   "execution_count": 11,
   "metadata": {
    "collapsed": false
   },
   "outputs": [],
   "source": [
    "# Write faces and points to \n",
    "# an stl file\n",
    "faces = tri.simplices # Grab faces from tri\n",
    "vertices = points # verts are the original points\n",
    "surface = mesh.Mesh(np.zeros(faces.shape[0], dtype=mesh.Mesh.dtype))\n",
    "for i, f in enumerate(faces):\n",
    "    for j in range(3):\n",
    "        surface.vectors[i][j] = vertices[f[j],:]\n",
    "\n",
    "# Write the mesh to file \"trisurface.stl\"\n",
    "surface.save('trisurface.stl')"
   ]
  }
 ],
 "metadata": {
  "kernelspec": {
   "display_name": "Python 2",
   "language": "python",
   "name": "python2"
  },
  "language_info": {
   "codemirror_mode": {
    "name": "ipython",
    "version": 2
   },
   "file_extension": ".py",
   "mimetype": "text/x-python",
   "name": "python",
   "nbconvert_exporter": "python",
   "pygments_lexer": "ipython2",
   "version": "2.7.11"
  },
  "widgets": {
   "state": {},
   "version": "1.1.2"
  }
 },
 "nbformat": 4,
 "nbformat_minor": 0
}
